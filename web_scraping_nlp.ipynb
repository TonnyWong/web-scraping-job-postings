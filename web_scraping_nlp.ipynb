{
 "cells": [
  {
   "cell_type": "code",
   "execution_count": 1,
   "metadata": {},
   "outputs": [],
   "source": [
    "import numpy as np\n",
    "import pandas as pd\n",
    "import re\n",
    "import nltk\n",
    "from nltk.corpus import stopwords\n",
    "from nltk.stem.porter import PorterStemmer\n",
    "from sklearn.feature_extraction.text import TfidfVectorizer\n",
    "from sklearn.model_selection import cross_val_score, train_test_split\n",
    "from sklearn.linear_model import LogisticRegression\n",
    "from sklearn.ensemble import RandomForestClassifier\n",
    "from sklearn import metrics\n",
    "import matplotlib.pyplot as plt\n",
    "%matplotlib inline\n",
    "plt.style.use('bmh')\n",
    "%config InlineBackend.figure_format = 'retina'"
   ]
  },
  {
   "cell_type": "markdown",
   "metadata": {},
   "source": [
    "# Web Scraping"
   ]
  },
  {
   "cell_type": "markdown",
   "metadata": {},
   "source": [
    "All Job information is collected from [MyCareersFuture](https://www.mycareersfuture.sg). Web scrapping is performed by running script `webscrapping.py`."
   ]
  },
  {
   "cell_type": "markdown",
   "metadata": {},
   "source": [
    "Dataset 1: Search keyword '*scientist*'"
   ]
  },
  {
   "cell_type": "code",
   "execution_count": 2,
   "metadata": {},
   "outputs": [
    {
     "data": {
      "text/plain": [
       "(166, 10)"
      ]
     },
     "execution_count": 2,
     "metadata": {},
     "output_type": "execute_result"
    }
   ],
   "source": [
    "scientist = pd.read_csv('scientist.csv')\n",
    "scientist.shape"
   ]
  },
  {
   "cell_type": "markdown",
   "metadata": {},
   "source": [
    "Dataset 2: Search keyword '*analyst*'"
   ]
  },
  {
   "cell_type": "code",
   "execution_count": 3,
   "metadata": {},
   "outputs": [
    {
     "data": {
      "text/plain": [
       "(1148, 10)"
      ]
     },
     "execution_count": 3,
     "metadata": {},
     "output_type": "execute_result"
    }
   ],
   "source": [
    "analyst = pd.read_csv('analyst.csv')\n",
    "analyst.shape"
   ]
  },
  {
   "cell_type": "markdown",
   "metadata": {},
   "source": [
    "Combine the two dataset."
   ]
  },
  {
   "cell_type": "code",
   "execution_count": 4,
   "metadata": {},
   "outputs": [
    {
     "data": {
      "text/plain": [
       "(1163, 10)"
      ]
     },
     "execution_count": 4,
     "metadata": {},
     "output_type": "execute_result"
    }
   ],
   "source": [
    "jobs = pd.concat([scientist, analyst], ignore_index=True)\n",
    "jobs = jobs.drop_duplicates().dropna()\n",
    "jobs.reset_index(inplace=True, drop=True)\n",
    "jobs.shape"
   ]
  },
  {
   "cell_type": "markdown",
   "metadata": {},
   "source": [
    "# EDA"
   ]
  },
  {
   "cell_type": "code",
   "execution_count": 5,
   "metadata": {},
   "outputs": [
    {
     "data": {
      "text/html": [
       "<div>\n",
       "<style scoped>\n",
       "    .dataframe tbody tr th:only-of-type {\n",
       "        vertical-align: middle;\n",
       "    }\n",
       "\n",
       "    .dataframe tbody tr th {\n",
       "        vertical-align: top;\n",
       "    }\n",
       "\n",
       "    .dataframe thead th {\n",
       "        text-align: right;\n",
       "    }\n",
       "</style>\n",
       "<table border=\"1\" class=\"dataframe\">\n",
       "  <thead>\n",
       "    <tr style=\"text-align: right;\">\n",
       "      <th></th>\n",
       "      <th>title</th>\n",
       "      <th>location</th>\n",
       "      <th>employment_type</th>\n",
       "      <th>level</th>\n",
       "      <th>category</th>\n",
       "      <th>salary_min</th>\n",
       "      <th>salary_max</th>\n",
       "      <th>salary_type</th>\n",
       "      <th>description</th>\n",
       "      <th>requirements</th>\n",
       "    </tr>\n",
       "  </thead>\n",
       "  <tbody>\n",
       "    <tr>\n",
       "      <th>0</th>\n",
       "      <td>Scientist / Senior Scientist (ARTC)</td>\n",
       "      <td>West</td>\n",
       "      <td>Contract, Full Time</td>\n",
       "      <td>Executive</td>\n",
       "      <td>Sciences / Laboratory / R&amp;D</td>\n",
       "      <td>$5,900</td>\n",
       "      <td>to$11,800</td>\n",
       "      <td>Monthly</td>\n",
       "      <td>Roles &amp; Responsibilities\\nThe Agency for Scien...</td>\n",
       "      <td>Requirements\\nDegree, Masters or PhD in Engine...</td>\n",
       "    </tr>\n",
       "    <tr>\n",
       "      <th>1</th>\n",
       "      <td>Data Scientist</td>\n",
       "      <td>South</td>\n",
       "      <td>Full Time</td>\n",
       "      <td>Middle Management</td>\n",
       "      <td>Engineering</td>\n",
       "      <td>$2,200</td>\n",
       "      <td>to$6,000</td>\n",
       "      <td>Monthly</td>\n",
       "      <td>Roles &amp; Responsibilities\\nIn this role, you wi...</td>\n",
       "      <td>Requirements\\n●  Comfortable working with larg...</td>\n",
       "    </tr>\n",
       "    <tr>\n",
       "      <th>2</th>\n",
       "      <td>Scientist (Deep Learning 2.0) / I2R (A*STAR)</td>\n",
       "      <td>South</td>\n",
       "      <td>Contract, Full Time</td>\n",
       "      <td>Professional</td>\n",
       "      <td>Sciences / Laboratory / R&amp;D</td>\n",
       "      <td>$4,500</td>\n",
       "      <td>to$9,000</td>\n",
       "      <td>Monthly</td>\n",
       "      <td>Roles &amp; Responsibilities\\nAbout the Institute ...</td>\n",
       "      <td>Requirements\\nPhD in Computer Science, Statist...</td>\n",
       "    </tr>\n",
       "  </tbody>\n",
       "</table>\n",
       "</div>"
      ],
      "text/plain": [
       "                                          title location      employment_type  \\\n",
       "0           Scientist / Senior Scientist (ARTC)     West  Contract, Full Time   \n",
       "1                                Data Scientist    South            Full Time   \n",
       "2  Scientist (Deep Learning 2.0) / I2R (A*STAR)    South  Contract, Full Time   \n",
       "\n",
       "               level                     category salary_min salary_max  \\\n",
       "0          Executive  Sciences / Laboratory / R&D     $5,900  to$11,800   \n",
       "1  Middle Management                  Engineering     $2,200   to$6,000   \n",
       "2       Professional  Sciences / Laboratory / R&D     $4,500   to$9,000   \n",
       "\n",
       "  salary_type                                        description  \\\n",
       "0     Monthly  Roles & Responsibilities\\nThe Agency for Scien...   \n",
       "1     Monthly  Roles & Responsibilities\\nIn this role, you wi...   \n",
       "2     Monthly  Roles & Responsibilities\\nAbout the Institute ...   \n",
       "\n",
       "                                        requirements  \n",
       "0  Requirements\\nDegree, Masters or PhD in Engine...  \n",
       "1  Requirements\\n●  Comfortable working with larg...  \n",
       "2  Requirements\\nPhD in Computer Science, Statist...  "
      ]
     },
     "execution_count": 5,
     "metadata": {},
     "output_type": "execute_result"
    }
   ],
   "source": [
    "jobs.head(3)"
   ]
  },
  {
   "cell_type": "code",
   "execution_count": 6,
   "metadata": {},
   "outputs": [],
   "source": [
    "# Convert all salary to integer.\n",
    "for char in 'to$,':\n",
    "    jobs['salary_min'] = jobs['salary_min'].str.replace(char, '')\n",
    "    jobs['salary_max'] = jobs['salary_max'].str.replace(char, '')\n",
    "    \n",
    "jobs['salary_min'] = jobs['salary_min'].astype(int)\n",
    "jobs['salary_max'] = jobs['salary_max'].astype(int)"
   ]
  },
  {
   "cell_type": "code",
   "execution_count": 7,
   "metadata": {},
   "outputs": [
    {
     "data": {
      "text/html": [
       "<div>\n",
       "<style scoped>\n",
       "    .dataframe tbody tr th:only-of-type {\n",
       "        vertical-align: middle;\n",
       "    }\n",
       "\n",
       "    .dataframe tbody tr th {\n",
       "        vertical-align: top;\n",
       "    }\n",
       "\n",
       "    .dataframe thead th {\n",
       "        text-align: right;\n",
       "    }\n",
       "</style>\n",
       "<table border=\"1\" class=\"dataframe\">\n",
       "  <thead>\n",
       "    <tr style=\"text-align: right;\">\n",
       "      <th></th>\n",
       "      <th>title</th>\n",
       "      <th>location</th>\n",
       "      <th>employment_type</th>\n",
       "      <th>level</th>\n",
       "      <th>category</th>\n",
       "      <th>salary_min</th>\n",
       "      <th>salary_max</th>\n",
       "      <th>salary_type</th>\n",
       "      <th>description</th>\n",
       "      <th>requirements</th>\n",
       "    </tr>\n",
       "  </thead>\n",
       "  <tbody>\n",
       "    <tr>\n",
       "      <th>0</th>\n",
       "      <td>Scientist / Senior Scientist (ARTC)</td>\n",
       "      <td>West</td>\n",
       "      <td>Contract, Full Time</td>\n",
       "      <td>Executive</td>\n",
       "      <td>Sciences / Laboratory / R&amp;D</td>\n",
       "      <td>5900</td>\n",
       "      <td>11800</td>\n",
       "      <td>Monthly</td>\n",
       "      <td>Roles &amp; Responsibilities\\nThe Agency for Scien...</td>\n",
       "      <td>Requirements\\nDegree, Masters or PhD in Engine...</td>\n",
       "    </tr>\n",
       "    <tr>\n",
       "      <th>1</th>\n",
       "      <td>Data Scientist</td>\n",
       "      <td>South</td>\n",
       "      <td>Full Time</td>\n",
       "      <td>Middle Management</td>\n",
       "      <td>Engineering</td>\n",
       "      <td>2200</td>\n",
       "      <td>6000</td>\n",
       "      <td>Monthly</td>\n",
       "      <td>Roles &amp; Responsibilities\\nIn this role, you wi...</td>\n",
       "      <td>Requirements\\n●  Comfortable working with larg...</td>\n",
       "    </tr>\n",
       "    <tr>\n",
       "      <th>2</th>\n",
       "      <td>Scientist (Deep Learning 2.0) / I2R (A*STAR)</td>\n",
       "      <td>South</td>\n",
       "      <td>Contract, Full Time</td>\n",
       "      <td>Professional</td>\n",
       "      <td>Sciences / Laboratory / R&amp;D</td>\n",
       "      <td>4500</td>\n",
       "      <td>9000</td>\n",
       "      <td>Monthly</td>\n",
       "      <td>Roles &amp; Responsibilities\\nAbout the Institute ...</td>\n",
       "      <td>Requirements\\nPhD in Computer Science, Statist...</td>\n",
       "    </tr>\n",
       "  </tbody>\n",
       "</table>\n",
       "</div>"
      ],
      "text/plain": [
       "                                          title location      employment_type  \\\n",
       "0           Scientist / Senior Scientist (ARTC)     West  Contract, Full Time   \n",
       "1                                Data Scientist    South            Full Time   \n",
       "2  Scientist (Deep Learning 2.0) / I2R (A*STAR)    South  Contract, Full Time   \n",
       "\n",
       "               level                     category  salary_min  salary_max  \\\n",
       "0          Executive  Sciences / Laboratory / R&D        5900       11800   \n",
       "1  Middle Management                  Engineering        2200        6000   \n",
       "2       Professional  Sciences / Laboratory / R&D        4500        9000   \n",
       "\n",
       "  salary_type                                        description  \\\n",
       "0     Monthly  Roles & Responsibilities\\nThe Agency for Scien...   \n",
       "1     Monthly  Roles & Responsibilities\\nIn this role, you wi...   \n",
       "2     Monthly  Roles & Responsibilities\\nAbout the Institute ...   \n",
       "\n",
       "                                        requirements  \n",
       "0  Requirements\\nDegree, Masters or PhD in Engine...  \n",
       "1  Requirements\\n●  Comfortable working with larg...  \n",
       "2  Requirements\\nPhD in Computer Science, Statist...  "
      ]
     },
     "execution_count": 7,
     "metadata": {},
     "output_type": "execute_result"
    }
   ],
   "source": [
    "jobs.head(3)"
   ]
  },
  {
   "cell_type": "code",
   "execution_count": 8,
   "metadata": {},
   "outputs": [
    {
     "name": "stdout",
     "output_type": "stream",
     "text": [
      "<class 'pandas.core.frame.DataFrame'>\n",
      "RangeIndex: 1163 entries, 0 to 1162\n",
      "Data columns (total 10 columns):\n",
      "title              1163 non-null object\n",
      "location           1163 non-null object\n",
      "employment_type    1163 non-null object\n",
      "level              1163 non-null object\n",
      "category           1163 non-null object\n",
      "salary_min         1163 non-null int64\n",
      "salary_max         1163 non-null int64\n",
      "salary_type        1163 non-null object\n",
      "description        1163 non-null object\n",
      "requirements       1163 non-null object\n",
      "dtypes: int64(2), object(8)\n",
      "memory usage: 90.9+ KB\n"
     ]
    }
   ],
   "source": [
    "jobs.info()"
   ]
  },
  {
   "cell_type": "code",
   "execution_count": 9,
   "metadata": {},
   "outputs": [
    {
     "data": {
      "text/plain": [
       "Monthly     1132\n",
       "Annually      31\n",
       "Name: salary_type, dtype: int64"
      ]
     },
     "execution_count": 9,
     "metadata": {},
     "output_type": "execute_result"
    }
   ],
   "source": [
    "jobs['salary_type'].value_counts()"
   ]
  },
  {
   "cell_type": "code",
   "execution_count": 10,
   "metadata": {},
   "outputs": [],
   "source": [
    "# Convert annually to monthly salary.\n",
    "jobs_anual = jobs.drop(jobs[jobs['salary_type'] == 'Monthly'].index)\n",
    "jobs_anual['salary_min'] = round(jobs_anual['salary_min'] / 12)\n",
    "jobs_anual['salary_max'] = round(jobs_anual['salary_max'] / 12)\n",
    "jobs.update(jobs_anual)\n",
    "jobs.drop('salary_type', axis=1, inplace=True)"
   ]
  },
  {
   "cell_type": "code",
   "execution_count": 11,
   "metadata": {},
   "outputs": [
    {
     "data": {
      "image/png": "[encoded data removed]",
      "text/plain": [
       "<Figure size 432x288 with 1 Axes>"
      ]
     },
     "metadata": {
      "image/png": {
       "height": 261,
       "width": 372
      },
      "needs_background": "light"
     },
     "output_type": "display_data"
    }
   ],
   "source": [
    "jobs['salary_min'].hist(bins=50)\n",
    "plt.title('Minimum Monthly Salary')\n",
    "plt.show()"
   ]
  },
  {
   "cell_type": "code",
   "execution_count": 12,
   "metadata": {},
   "outputs": [
    {
     "data": {
      "image/png": "[encoded data removed]",
      "text/plain": [
       "<Figure size 432x288 with 1 Axes>"
      ]
     },
     "metadata": {
      "image/png": {
       "height": 261,
       "width": 375
      },
      "needs_background": "light"
     },
     "output_type": "display_data"
    }
   ],
   "source": [
    "jobs['salary_max'].hist(bins=50)\n",
    "plt.title('Maximum Monthly Salary')\n",
    "plt.show()"
   ]
  },
  {
   "cell_type": "code",
   "execution_count": 13,
   "metadata": {},
   "outputs": [],
   "source": [
    "jobs['description'] = jobs['description'].str.replace('\\n', '')\n",
    "jobs['requirements'] = jobs['requirements'].str.replace('\\n', '')"
   ]
  },
  {
   "cell_type": "markdown",
   "metadata": {},
   "source": [
    "# Sction 1: Job Salary Trends"
   ]
  },
  {
   "cell_type": "markdown",
   "metadata": {},
   "source": [
    "In this section, classification models are built to analyse factors that impact salary."
   ]
  },
  {
   "cell_type": "markdown",
   "metadata": {},
   "source": [
    "### Natural Language Processing"
   ]
  },
  {
   "cell_type": "code",
   "execution_count": 14,
   "metadata": {
    "scrolled": false
   },
   "outputs": [
    {
     "data": {
      "text/html": [
       "<div>\n",
       "<style scoped>\n",
       "    .dataframe tbody tr th:only-of-type {\n",
       "        vertical-align: middle;\n",
       "    }\n",
       "\n",
       "    .dataframe tbody tr th {\n",
       "        vertical-align: top;\n",
       "    }\n",
       "\n",
       "    .dataframe thead th {\n",
       "        text-align: right;\n",
       "    }\n",
       "</style>\n",
       "<table border=\"1\" class=\"dataframe\">\n",
       "  <thead>\n",
       "    <tr style=\"text-align: right;\">\n",
       "      <th></th>\n",
       "      <th>title</th>\n",
       "      <th>location</th>\n",
       "      <th>employment_type</th>\n",
       "      <th>level</th>\n",
       "      <th>category</th>\n",
       "      <th>description</th>\n",
       "      <th>requirements</th>\n",
       "    </tr>\n",
       "  </thead>\n",
       "  <tbody>\n",
       "    <tr>\n",
       "      <th>0</th>\n",
       "      <td>scientist senior scientist artc</td>\n",
       "      <td>west</td>\n",
       "      <td>contract full time</td>\n",
       "      <td>executive</td>\n",
       "      <td>science laboratory r d</td>\n",
       "      <td>the agency for science technology and research...</td>\n",
       "      <td>degree master or phd in engineeringminimum yea...</td>\n",
       "    </tr>\n",
       "    <tr>\n",
       "      <th>1</th>\n",
       "      <td>data scientist</td>\n",
       "      <td>south</td>\n",
       "      <td>full time</td>\n",
       "      <td>middle management</td>\n",
       "      <td>engineering</td>\n",
       "      <td>in this role you will be responsible for analy...</td>\n",
       "      <td>requirement comfortable working with large amo...</td>\n",
       "    </tr>\n",
       "    <tr>\n",
       "      <th>2</th>\n",
       "      <td>scientist deep learning i r a star</td>\n",
       "      <td>south</td>\n",
       "      <td>contract full time</td>\n",
       "      <td>professional</td>\n",
       "      <td>science laboratory r d</td>\n",
       "      <td>about the institute for infocomm research i r ...</td>\n",
       "      <td>phd in computer science statistic or data scie...</td>\n",
       "    </tr>\n",
       "    <tr>\n",
       "      <th>3</th>\n",
       "      <td>data scientist intern month</td>\n",
       "      <td>east</td>\n",
       "      <td>internship</td>\n",
       "      <td>fresh entry level</td>\n",
       "      <td>information technology manufacturing others</td>\n",
       "      <td>essential duty responsibilitiesanalyse raw dat...</td>\n",
       "      <td>education experience advanced degree in statis...</td>\n",
       "    </tr>\n",
       "    <tr>\n",
       "      <th>4</th>\n",
       "      <td>data scientist</td>\n",
       "      <td>east</td>\n",
       "      <td>permanent</td>\n",
       "      <td>professional</td>\n",
       "      <td>information technology</td>\n",
       "      <td>what we doniometrics capture organises and ext...</td>\n",
       "      <td>what we valueba b or ma m or equivalent experi...</td>\n",
       "    </tr>\n",
       "  </tbody>\n",
       "</table>\n",
       "</div>"
      ],
      "text/plain": [
       "                                title location     employment_type  \\\n",
       "0     scientist senior scientist artc     west  contract full time   \n",
       "1                      data scientist    south           full time   \n",
       "2  scientist deep learning i r a star    south  contract full time   \n",
       "3         data scientist intern month     east          internship   \n",
       "4                      data scientist     east           permanent   \n",
       "\n",
       "               level                                     category  \\\n",
       "0          executive                       science laboratory r d   \n",
       "1  middle management                                  engineering   \n",
       "2       professional                       science laboratory r d   \n",
       "3  fresh entry level  information technology manufacturing others   \n",
       "4       professional                       information technology   \n",
       "\n",
       "                                         description  \\\n",
       "0  the agency for science technology and research...   \n",
       "1  in this role you will be responsible for analy...   \n",
       "2  about the institute for infocomm research i r ...   \n",
       "3  essential duty responsibilitiesanalyse raw dat...   \n",
       "4  what we doniometrics capture organises and ext...   \n",
       "\n",
       "                                        requirements  \n",
       "0  degree master or phd in engineeringminimum yea...  \n",
       "1  requirement comfortable working with large amo...  \n",
       "2  phd in computer science statistic or data scie...  \n",
       "3  education experience advanced degree in statis...  \n",
       "4  what we valueba b or ma m or equivalent experi...  "
      ]
     },
     "execution_count": 14,
     "metadata": {},
     "output_type": "execute_result"
    }
   ],
   "source": [
    "# Remove special characters and lemmatization.\n",
    "jobs_X = jobs.drop(['salary_min', 'salary_max'], axis=1)\n",
    "\n",
    "def text_preprocessing(x):\n",
    "    words = re.sub('[^a-zA-Z]', ' ', x).lower().split()\n",
    "    lemma = nltk.wordnet.WordNetLemmatizer()\n",
    "    words = [lemma.lemmatize(word) for word in words]\n",
    "    words = ' '.join(words)\n",
    "    return words\n",
    "\n",
    "jobs_X = jobs_X.applymap(text_preprocessing)\n",
    "\n",
    "# Remove sub-titles in job description and requirements.\n",
    "jobs_X['description'] = jobs_X['description'].str.replace('role responsibilities', '')\n",
    "jobs_X['requirements'] = jobs_X['requirements'].str.replace('requirements', '')\n",
    "jobs_X.head()"
   ]
  },
  {
   "cell_type": "code",
   "execution_count": 15,
   "metadata": {},
   "outputs": [],
   "source": [
    "# Define target varaible.\n",
    "jobs['salary_avg'] = round((jobs['salary_min'] + jobs['salary_max']) / 2)\n",
    "y = [1 if x >= jobs['salary_avg'].median() else 0 for x in jobs['salary_avg'].values]"
   ]
  },
  {
   "cell_type": "code",
   "execution_count": 16,
   "metadata": {},
   "outputs": [
    {
     "name": "stdout",
     "output_type": "stream",
     "text": [
      "Column Name: title            |  No. of Features:    183\n",
      "Column Name: location         |  No. of Features:      9\n",
      "Column Name: employment_type  |  No. of Features:      9\n",
      "Column Name: level            |  No. of Features:     31\n",
      "Column Name: category         |  No. of Features:     64\n",
      "Column Name: description      |  No. of Features:   4245\n",
      "Column Name: requirements     |  No. of Features:   3448\n"
     ]
    }
   ],
   "source": [
    "# Construct corpus matrix for independent variables.\n",
    "X = pd.DataFrame()\n",
    "for column in jobs_X:\n",
    "    vect = TfidfVectorizer(stop_words='english', min_df=0.005, ngram_range=(1,2))\n",
    "    X_sub = vect.fit_transform(jobs_X[column])\n",
    "    df_sub = pd.DataFrame(X_sub.toarray(), columns=vect.get_feature_names())\n",
    "    X = pd.concat([X, df_sub], axis=1, sort=False)\n",
    "    print('Column Name: {:16} |  No. of Features: {:6}'.format(column, len(vect.get_feature_names())))"
   ]
  },
  {
   "cell_type": "markdown",
   "metadata": {},
   "source": [
    "### Model 1: Logistic Regression"
   ]
  },
  {
   "cell_type": "code",
   "execution_count": 17,
   "metadata": {},
   "outputs": [
    {
     "data": {
      "text/plain": [
       "0.5554600171969045"
      ]
     },
     "execution_count": 17,
     "metadata": {},
     "output_type": "execute_result"
    }
   ],
   "source": [
    "# Calculate the baseline.\n",
    "sum(y)/len(y)"
   ]
  },
  {
   "cell_type": "code",
   "execution_count": 18,
   "metadata": {},
   "outputs": [],
   "source": [
    "X_train, X_test, y_train, y_test = train_test_split(X, y, test_size=0.33, random_state=1)"
   ]
  },
  {
   "cell_type": "code",
   "execution_count": 19,
   "metadata": {},
   "outputs": [],
   "source": [
    "lr = LogisticRegression(solver='lbfgs', max_iter=200)\n",
    "lr.fit(X_train, y_train)\n",
    "y_pred = lr.predict(X_test)"
   ]
  },
  {
   "cell_type": "code",
   "execution_count": 20,
   "metadata": {},
   "outputs": [
    {
     "data": {
      "text/plain": [
       "0.7430436651955639"
      ]
     },
     "execution_count": 20,
     "metadata": {},
     "output_type": "execute_result"
    }
   ],
   "source": [
    "cross_val_score(lr, X_train, y_train, cv=10).mean()"
   ]
  },
  {
   "cell_type": "code",
   "execution_count": 21,
   "metadata": {},
   "outputs": [
    {
     "name": "stdout",
     "output_type": "stream",
     "text": [
      "[[130  43]\n",
      " [ 40 171]]\n",
      "------------------------------------------------------- \n",
      "\n",
      "               precision    recall  f1-score   support\n",
      "\n",
      " lower salary       0.76      0.75      0.76       173\n",
      "higher salary       0.80      0.81      0.80       211\n",
      "\n",
      "    micro avg       0.78      0.78      0.78       384\n",
      "    macro avg       0.78      0.78      0.78       384\n",
      " weighted avg       0.78      0.78      0.78       384\n",
      "\n"
     ]
    }
   ],
   "source": [
    "print(metrics.confusion_matrix(y_test, y_pred))\n",
    "print('-'*55, '\\n')\n",
    "print(metrics.classification_report(y_test, y_pred, target_names=['lower salary', 'higher salary']))"
   ]
  },
  {
   "cell_type": "markdown",
   "metadata": {},
   "source": [
    "### Model 2: Random Forest"
   ]
  },
  {
   "cell_type": "code",
   "execution_count": 22,
   "metadata": {},
   "outputs": [
    {
     "data": {
      "text/plain": [
       "RandomForestClassifier(bootstrap=True, class_weight=None, criterion='gini',\n",
       "            max_depth=None, max_features='auto', max_leaf_nodes=None,\n",
       "            min_impurity_decrease=0.0, min_impurity_split=None,\n",
       "            min_samples_leaf=1, min_samples_split=2,\n",
       "            min_weight_fraction_leaf=0.0, n_estimators=200, n_jobs=None,\n",
       "            oob_score=False, random_state=1, verbose=0, warm_start=False)"
      ]
     },
     "execution_count": 22,
     "metadata": {},
     "output_type": "execute_result"
    }
   ],
   "source": [
    "clf = RandomForestClassifier(n_estimators=200, random_state=1)\n",
    "clf.fit(X_train, y_train)"
   ]
  },
  {
   "cell_type": "code",
   "execution_count": 23,
   "metadata": {},
   "outputs": [
    {
     "data": {
      "text/plain": [
       "0.7444721944721946"
      ]
     },
     "execution_count": 23,
     "metadata": {},
     "output_type": "execute_result"
    }
   ],
   "source": [
    "y_pred = clf.predict(X_test)\n",
    "cross_val_score(clf, X_train, y_train, cv=10).mean()"
   ]
  },
  {
   "cell_type": "code",
   "execution_count": 24,
   "metadata": {},
   "outputs": [
    {
     "name": "stdout",
     "output_type": "stream",
     "text": [
      "[[122  51]\n",
      " [ 31 180]]\n",
      "------------------------------------------------------- \n",
      "\n",
      "               precision    recall  f1-score   support\n",
      "\n",
      " lower salary       0.80      0.71      0.75       173\n",
      "higher salary       0.78      0.85      0.81       211\n",
      "\n",
      "    micro avg       0.79      0.79      0.79       384\n",
      "    macro avg       0.79      0.78      0.78       384\n",
      " weighted avg       0.79      0.79      0.78       384\n",
      "\n"
     ]
    }
   ],
   "source": [
    "print(metrics.confusion_matrix(y_test, y_pred))\n",
    "print('-'*55, '\\n')\n",
    "print(metrics.classification_report(y_test, y_pred, target_names=['lower salary', 'higher salary']))"
   ]
  },
  {
   "cell_type": "code",
   "execution_count": 25,
   "metadata": {},
   "outputs": [
    {
     "data": {
      "text/plain": [
       "executive                 0.011559\n",
       "diploma                   0.007189\n",
       "information technology    0.006617\n",
       "team player               0.005596\n",
       "analyst                   0.005024\n",
       "degree                    0.004676\n",
       "junior                    0.004576\n",
       "skill                     0.004073\n",
       "professional              0.003950\n",
       "communication             0.003758\n",
       "independently             0.003549\n",
       "senior executive          0.003443\n",
       "technology                0.003381\n",
       "junior executive          0.003290\n",
       "business                  0.003221\n",
       "information               0.003167\n",
       "good                      0.003090\n",
       "player                    0.003045\n",
       "excel                     0.002915\n",
       "update                    0.002909\n",
       "perform                   0.002860\n",
       "experience                0.002735\n",
       "year                      0.002684\n",
       "documentation             0.002566\n",
       "information               0.002547\n",
       "apply                     0.002540\n",
       "key                       0.002478\n",
       "work                      0.002464\n",
       "support                   0.002385\n",
       "senior                    0.002380\n",
       "dtype: float64"
      ]
     },
     "execution_count": 25,
     "metadata": {},
     "output_type": "execute_result"
    }
   ],
   "source": [
    "# Check important features.\n",
    "pd.Series(clf.feature_importances_, index=X_train.columns).sort_values(ascending=False)[:30]"
   ]
  },
  {
   "cell_type": "markdown",
   "metadata": {},
   "source": [
    "# Section 2: Job Category Factors"
   ]
  },
  {
   "cell_type": "markdown",
   "metadata": {},
   "source": [
    "In this section, classification models are built to analyse what components of a job posting distinguish senior position from other jobs."
   ]
  },
  {
   "cell_type": "code",
   "execution_count": 26,
   "metadata": {},
   "outputs": [],
   "source": [
    "y = [1 if 'senior' in x else 0 for x in jobs_X['title'].values]"
   ]
  },
  {
   "cell_type": "code",
   "execution_count": 27,
   "metadata": {},
   "outputs": [
    {
     "data": {
      "text/plain": [
       "0.8426483233018056"
      ]
     },
     "execution_count": 27,
     "metadata": {},
     "output_type": "execute_result"
    }
   ],
   "source": [
    "# Calculate the baseline.\n",
    "1 - sum(y) / len(y)"
   ]
  },
  {
   "cell_type": "markdown",
   "metadata": {},
   "source": [
    "### Model 1: Logistic Regression"
   ]
  },
  {
   "cell_type": "code",
   "execution_count": 28,
   "metadata": {},
   "outputs": [],
   "source": [
    "X_train, X_test, y_train, y_test = train_test_split(X, y, test_size=0.33, random_state=1)"
   ]
  },
  {
   "cell_type": "code",
   "execution_count": 29,
   "metadata": {},
   "outputs": [],
   "source": [
    "lr = LogisticRegression(solver='lbfgs', max_iter=200)\n",
    "lr.fit(X_train, y_train)\n",
    "y_pred = lr.predict(X_test)"
   ]
  },
  {
   "cell_type": "code",
   "execution_count": 30,
   "metadata": {},
   "outputs": [
    {
     "data": {
      "text/plain": [
       "0.9511779359880626"
      ]
     },
     "execution_count": 30,
     "metadata": {},
     "output_type": "execute_result"
    }
   ],
   "source": [
    "cross_val_score(lr, X_train, y_train, cv=10).mean()"
   ]
  },
  {
   "cell_type": "code",
   "execution_count": 31,
   "metadata": {},
   "outputs": [
    {
     "name": "stdout",
     "output_type": "stream",
     "text": [
      "[[317   0]\n",
      " [ 25  42]]\n",
      "------------------------------------------------------- \n",
      "\n",
      "               precision    recall  f1-score   support\n",
      "\n",
      " lower salary       0.93      1.00      0.96       317\n",
      "higher salary       1.00      0.63      0.77        67\n",
      "\n",
      "    micro avg       0.93      0.93      0.93       384\n",
      "    macro avg       0.96      0.81      0.87       384\n",
      " weighted avg       0.94      0.93      0.93       384\n",
      "\n"
     ]
    }
   ],
   "source": [
    "print(metrics.confusion_matrix(y_test, y_pred))\n",
    "print('-'*55, '\\n')\n",
    "print(metrics.classification_report(y_test, y_pred, target_names=['lower salary', 'higher salary']))"
   ]
  },
  {
   "cell_type": "markdown",
   "metadata": {},
   "source": [
    "### Model 2: Random Forest"
   ]
  },
  {
   "cell_type": "code",
   "execution_count": 32,
   "metadata": {},
   "outputs": [
    {
     "data": {
      "text/plain": [
       "RandomForestClassifier(bootstrap=True, class_weight=None, criterion='gini',\n",
       "            max_depth=None, max_features='auto', max_leaf_nodes=None,\n",
       "            min_impurity_decrease=0.0, min_impurity_split=None,\n",
       "            min_samples_leaf=1, min_samples_split=2,\n",
       "            min_weight_fraction_leaf=0.0, n_estimators=200, n_jobs=None,\n",
       "            oob_score=False, random_state=1, verbose=0, warm_start=False)"
      ]
     },
     "execution_count": 32,
     "metadata": {},
     "output_type": "execute_result"
    }
   ],
   "source": [
    "clf = RandomForestClassifier(n_estimators=200, random_state=1)\n",
    "clf.fit(X_train, y_train)"
   ]
  },
  {
   "cell_type": "code",
   "execution_count": 33,
   "metadata": {},
   "outputs": [
    {
     "data": {
      "text/plain": [
       "0.9063173113806023"
      ]
     },
     "execution_count": 33,
     "metadata": {},
     "output_type": "execute_result"
    }
   ],
   "source": [
    "y_pred = clf.predict(X_test)\n",
    "cross_val_score(clf, X_train, y_train, cv=10).mean()"
   ]
  },
  {
   "cell_type": "code",
   "execution_count": 34,
   "metadata": {},
   "outputs": [
    {
     "name": "stdout",
     "output_type": "stream",
     "text": [
      "[[317   0]\n",
      " [ 28  39]]\n",
      "------------------------------------------------------- \n",
      "\n",
      "               precision    recall  f1-score   support\n",
      "\n",
      " lower salary       0.92      1.00      0.96       317\n",
      "higher salary       1.00      0.58      0.74        67\n",
      "\n",
      "    micro avg       0.93      0.93      0.93       384\n",
      "    macro avg       0.96      0.79      0.85       384\n",
      " weighted avg       0.93      0.93      0.92       384\n",
      "\n"
     ]
    }
   ],
   "source": [
    "print(metrics.confusion_matrix(y_test, y_pred))\n",
    "print('-'*55, '\\n')\n",
    "print(metrics.classification_report(y_test, y_pred, target_names=['lower salary', 'higher salary']))"
   ]
  },
  {
   "cell_type": "code",
   "execution_count": 35,
   "metadata": {},
   "outputs": [
    {
     "data": {
      "text/plain": [
       "senior                 0.166836\n",
       "senior business        0.027850\n",
       "senior analyst         0.022546\n",
       "senior data            0.008119\n",
       "senior                 0.006934\n",
       "senior associate       0.006170\n",
       "senior software        0.004297\n",
       "senior scientist       0.004086\n",
       "senior executive       0.004051\n",
       "senior financial       0.003809\n",
       "senior                 0.003490\n",
       "project management     0.003363\n",
       "following              0.003108\n",
       "analyst                0.003027\n",
       "financial reporting    0.002522\n",
       "senior business        0.002411\n",
       "statement              0.002257\n",
       "agile                  0.002228\n",
       "impact                 0.002057\n",
       "consultant             0.002008\n",
       "timeline               0.001998\n",
       "communicate            0.001927\n",
       "specialist             0.001838\n",
       "experience relevant    0.001820\n",
       "executive              0.001778\n",
       "transformation         0.001678\n",
       "recommend              0.001615\n",
       "role senior            0.001581\n",
       "development            0.001562\n",
       "controller             0.001561\n",
       "dtype: float64"
      ]
     },
     "execution_count": 35,
     "metadata": {},
     "output_type": "execute_result"
    }
   ],
   "source": [
    "# Check important features.\n",
    "pd.Series(clf.feature_importances_, index=X_train.columns).sort_values(ascending=False)[:30]"
   ]
  }
 ],
 "metadata": {
  "kernelspec": {
   "display_name": "Python 3",
   "language": "python",
   "name": "python3"
  },
  "language_info": {
   "codemirror_mode": {
    "name": "ipython",
    "version": 3
   },
   "file_extension": ".py",
   "mimetype": "text/x-python",
   "name": "python",
   "nbconvert_exporter": "python",
   "pygments_lexer": "ipython3",
   "version": "3.7.1"
  }
 },
 "nbformat": 4,
 "nbformat_minor": 2
}
